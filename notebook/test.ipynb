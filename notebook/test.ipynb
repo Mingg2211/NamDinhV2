{
 "cells": [
  {
   "cell_type": "code",
   "execution_count": 2,
   "metadata": {},
   "outputs": [],
   "source": [
    "import pandas as pd"
   ]
  },
  {
   "cell_type": "code",
   "execution_count": 4,
   "metadata": {},
   "outputs": [
    {
     "data": {
      "text/html": [
       "<div>\n",
       "<style scoped>\n",
       "    .dataframe tbody tr th:only-of-type {\n",
       "        vertical-align: middle;\n",
       "    }\n",
       "\n",
       "    .dataframe tbody tr th {\n",
       "        vertical-align: top;\n",
       "    }\n",
       "\n",
       "    .dataframe thead th {\n",
       "        text-align: right;\n",
       "    }\n",
       "</style>\n",
       "<table border=\"1\" class=\"dataframe\">\n",
       "  <thead>\n",
       "    <tr style=\"text-align: right;\">\n",
       "      <th></th>\n",
       "      <th>procedure_name</th>\n",
       "    </tr>\n",
       "  </thead>\n",
       "  <tbody>\n",
       "    <tr>\n",
       "      <th>0</th>\n",
       "      <td>thủ tục chuyển nhượng toàn bộ hoặc một phần dự...</td>\n",
       "    </tr>\n",
       "    <tr>\n",
       "      <th>1</th>\n",
       "      <td>thủ tục cấp mới chứng chỉ hành nghề môi giới b...</td>\n",
       "    </tr>\n",
       "    <tr>\n",
       "      <th>2</th>\n",
       "      <td>thủ tục cấp lại (cấp đổi) chứng chỉ hành nghề ...</td>\n",
       "    </tr>\n",
       "    <tr>\n",
       "      <th>3</th>\n",
       "      <td>thủ tục thông báo nhà ở hình thành trong tương...</td>\n",
       "    </tr>\n",
       "    <tr>\n",
       "      <th>4</th>\n",
       "      <td>thủ tục cho thuê, thuê mua nhà ở xã hội thuộc ...</td>\n",
       "    </tr>\n",
       "  </tbody>\n",
       "</table>\n",
       "</div>"
      ],
      "text/plain": [
       "                                      procedure_name\n",
       "0  thủ tục chuyển nhượng toàn bộ hoặc một phần dự...\n",
       "1  thủ tục cấp mới chứng chỉ hành nghề môi giới b...\n",
       "2  thủ tục cấp lại (cấp đổi) chứng chỉ hành nghề ...\n",
       "3  thủ tục thông báo nhà ở hình thành trong tương...\n",
       "4  thủ tục cho thuê, thuê mua nhà ở xã hội thuộc ..."
      ]
     },
     "execution_count": 4,
     "metadata": {},
     "output_type": "execute_result"
    }
   ],
   "source": [
    "df = pd.read_csv('..\\data\\\\new_procedure.csv')\n",
    "df.head()"
   ]
  },
  {
   "cell_type": "code",
   "execution_count": 70,
   "metadata": {},
   "outputs": [
    {
     "data": {
      "text/html": [
       "<div>\n",
       "<style scoped>\n",
       "    .dataframe tbody tr th:only-of-type {\n",
       "        vertical-align: middle;\n",
       "    }\n",
       "\n",
       "    .dataframe tbody tr th {\n",
       "        vertical-align: top;\n",
       "    }\n",
       "\n",
       "    .dataframe thead th {\n",
       "        text-align: right;\n",
       "    }\n",
       "</style>\n",
       "<table border=\"1\" class=\"dataframe\">\n",
       "  <thead>\n",
       "    <tr style=\"text-align: right;\">\n",
       "      <th></th>\n",
       "      <th>procedure_name</th>\n",
       "    </tr>\n",
       "  </thead>\n",
       "  <tbody>\n",
       "    <tr>\n",
       "      <th>101</th>\n",
       "      <td>thủ tục đăng ký khai tử có yếu tố nước ngoài</td>\n",
       "    </tr>\n",
       "    <tr>\n",
       "      <th>109</th>\n",
       "      <td>thủ tục ghi vào sổ hộ tịch việc hộ tịch khác c...</td>\n",
       "    </tr>\n",
       "    <tr>\n",
       "      <th>113</th>\n",
       "      <td>thủ tục đăng ký lại khai tử có yếu tố nước ngoài</td>\n",
       "    </tr>\n",
       "    <tr>\n",
       "      <th>656</th>\n",
       "      <td>thủ tục đăng ký khai tử</td>\n",
       "    </tr>\n",
       "    <tr>\n",
       "      <th>657</th>\n",
       "      <td>thủ tục đăng ký khai tử lưu động</td>\n",
       "    </tr>\n",
       "    <tr>\n",
       "      <th>658</th>\n",
       "      <td>thủ tục đăng ký lại khai tử</td>\n",
       "    </tr>\n",
       "  </tbody>\n",
       "</table>\n",
       "</div>"
      ],
      "text/plain": [
       "                                        procedure_name\n",
       "101       thủ tục đăng ký khai tử có yếu tố nước ngoài\n",
       "109  thủ tục ghi vào sổ hộ tịch việc hộ tịch khác c...\n",
       "113   thủ tục đăng ký lại khai tử có yếu tố nước ngoài\n",
       "656                            thủ tục đăng ký khai tử\n",
       "657                   thủ tục đăng ký khai tử lưu động\n",
       "658                        thủ tục đăng ký lại khai tử"
      ]
     },
     "execution_count": 70,
     "metadata": {},
     "output_type": "execute_result"
    }
   ],
   "source": [
    "df_khaisinh = df[df.procedure_name.str.contains('khai tử')]\n",
    "df_khaisinh"
   ]
  },
  {
   "cell_type": "code",
   "execution_count": 71,
   "metadata": {},
   "outputs": [],
   "source": [
    "tmp = df_khaisinh.replace(to_replace='thủ tục đăng ký ', value=\"\",regex=True)"
   ]
  },
  {
   "cell_type": "code",
   "execution_count": 72,
   "metadata": {},
   "outputs": [
    {
     "data": {
      "text/plain": [
       "['khai tử có yếu tố nước ngoài',\n",
       " 'thủ tục ghi vào sổ hộ tịch việc hộ tịch khác của công dân việt nam đã được giải quyết tại cơ quan có thẩm quyền của nước ngoài (khai sinh; giám hộ; nhận cha, mẹ, con; xác định cha, mẹ, con; nuôi con nuôi; khai tử; thay đổi hộ tịch)',\n",
       " 'lại khai tử có yếu tố nước ngoài',\n",
       " 'khai tử',\n",
       " 'khai tử lưu động',\n",
       " 'lại khai tử']"
      ]
     },
     "execution_count": 72,
     "metadata": {},
     "output_type": "execute_result"
    }
   ],
   "source": [
    "list_procedure = tmp.values.flatten().tolist()\n",
    "list_procedure\n"
   ]
  },
  {
   "cell_type": "code",
   "execution_count": 48,
   "metadata": {},
   "outputs": [],
   "source": [
    "def remove_dup(procedure_list:list):\n",
    "    mylist = list(dict.fromkeys(procedure_list))\n",
    "    return mylist\n"
   ]
  },
  {
   "cell_type": "code",
   "execution_count": 76,
   "metadata": {},
   "outputs": [],
   "source": [
    "def split_verb_phrase(list_procedure:list):\n",
    "    result_list = ['có yếu tố nước ngoài', 'cho người đã có hồ sơ, giấy tờ cá nhân','lần đầu','lần hai']\n",
    "    tmp_list = []\n",
    "    for procedure in list_procedure:\n",
    "        procedure = procedure.replace(result_list[0], '').strip()\n",
    "        procedure = procedure.replace(result_list[1], '').strip()\n",
    "        tmp_list.append(procedure)\n",
    "        tmp_list = sorted(remove_dup(tmp_list), key=len, reverse=True)\n",
    "    result_list = tmp_list + result_list\n",
    "    return(result_list)"
   ]
  },
  {
   "cell_type": "code",
   "execution_count": 74,
   "metadata": {},
   "outputs": [
    {
     "data": {
      "text/plain": [
       "['thủ tục ghi vào sổ hộ tịch việc hộ tịch khác của công dân việt nam đã được giải quyết tại cơ quan có thẩm quyền của nước ngoài (khai sinh; giám hộ; nhận cha, mẹ, con; xác định cha, mẹ, con; nuôi con nuôi; khai tử; thay đổi hộ tịch)',\n",
       " 'khai tử lưu động',\n",
       " 'lại khai tử',\n",
       " 'khai tử',\n",
       " 'có yếu tố nước ngoài',\n",
       " 'cho người đã có hồ sơ, giấy tờ cá nhân']"
      ]
     },
     "execution_count": 74,
     "metadata": {},
     "output_type": "execute_result"
    }
   ],
   "source": [
    "split_verb_phrase(list_procedure)"
   ]
  },
  {
   "cell_type": "code",
   "execution_count": 75,
   "metadata": {},
   "outputs": [],
   "source": [
    "with open('tmp.txt','w', encoding='utf-8') as f:\n",
    "    for val in split_verb_phrase(list_procedure):\n",
    "        f.write(\"'\"+str(val)+\"':\" + \" ['\"+str(val)+\"'],\")\n",
    "        f.write('\\n')"
   ]
  },
  {
   "cell_type": "code",
   "execution_count": 97,
   "metadata": {},
   "outputs": [],
   "source": [
    "keyword_dictionary = {\n",
    "    'khai sinh lưu động': ['khai sinh lưu động'],\n",
    "    'lại khai sinh': ['lại khai sinh'],\n",
    "    'khai sinh': ['khai sinh'],\n",
    "    'nhận cha, mẹ, con': ['nhận cha, mẹ, con'],\n",
    "    'kết hôn lưu động': ['kết hôn lưu động'],\n",
    "    'lại kết hôn': ['lại kết hôn'],\n",
    "    'kết hôn': ['kết hôn'],\n",
    "    'khai tử lưu động': ['khai tử lưu động'],\n",
    "    'lại khai tử': ['lại khai tử'],\n",
    "    'khai tử': ['khai tử'],\n",
    "    'ly hôn': ['ly hôn'],\n",
    "    'biến động quyền sử dụng đất': ['biến động quyền sử dụng đất'],\n",
    "    'đăng ký đất đai': ['đăng ký đất đai'],\n",
    "    'tranh chấp đất đai': ['tranh chấp đất đai'],\n",
    "    'khám chữa bệnh': ['khám chữa bệnh'],\n",
    "    'bảo hiểm y tế': ['bảo hiểm y tế'],\n",
    "    'bảo hiểm xã hội': ['bảo hiểm xã hội'],\n",
    "    'an toàn lao động': ['an toàn lao động'],\n",
    "    'trợ cấp thất nghiệp': ['trợ cấp thất nghiệp'],\n",
    "    'thất nghiệp': ['thất nghiệp'],\n",
    "    'chứng thực di chúc': ['chứng thực di chúc'],\n",
    "    'di chúc': ['di chúc'],\n",
    "\n",
    "    'có yếu tố nước ngoài': ['có yếu tố nước ngoài', 'người nước ngoài', 'nước ngoài'],\n",
    "    'cho người đã có hồ sơ, giấy tờ cá nhân': ['cho người đã có hồ sơ, giấy tờ cá nhân'],\n",
    "    'lần đầu': ['lần đầu'],\n",
    "    'lần hai': ['lần hai'],\n",
    "    'thanh toán': ['thanh toán'],\n",
    "    'cấp thẻ': ['cấp thẻ'],\n",
    "    'một lần': ['một lần'],\n",
    "    'trợ cấp': ['trợ cấp'],\n",
    "    'chứng thực': ['chứng thực']\n",
    "\n",
    "}"
   ]
  },
  {
   "cell_type": "code",
   "execution_count": 79,
   "metadata": {},
   "outputs": [],
   "source": [
    "import json"
   ]
  },
  {
   "cell_type": "code",
   "execution_count": 98,
   "metadata": {},
   "outputs": [],
   "source": [
    "with open(\"../json/keyword.json\", \"w\", encoding='utf-8') as outfile:\n",
    "    json.dump(keyword_dictionary, outfile, indent=4, ensure_ascii=False)\n"
   ]
  },
  {
   "cell_type": "code",
   "execution_count": 89,
   "metadata": {},
   "outputs": [],
   "source": [
    "BOT_MEMORY = {'keywords' : [], 'action':None}"
   ]
  },
  {
   "cell_type": "code",
   "execution_count": 95,
   "metadata": {},
   "outputs": [],
   "source": [
    "def bot_understand(user_question:str):\n",
    "    global BOT_MEMORY\n",
    "    keyword_list = []\n",
    "    #load keyword dictionary\n",
    "    with open('../json/keyword.json','r', encoding='utf-8') as f:\n",
    "        keyword_dict = json.load(f)\n",
    "    for key in keyword_dict.keys():\n",
    "        for val in keyword_dict[key]:\n",
    "            if val in user_question:\n",
    "                keyword_list.append(key)\n",
    "                user_question = user_question.replace(val, '')\n",
    "    BOT_MEMORY.update({'keywords': keyword_list})\n",
    "    return BOT_MEMORY"
   ]
  },
  {
   "cell_type": "code",
   "execution_count": 100,
   "metadata": {},
   "outputs": [
    {
     "data": {
      "text/plain": [
       "{'keywords': ['lại kết hôn', 'có yếu tố nước ngoài'], 'action': None}"
      ]
     },
     "execution_count": 100,
     "metadata": {},
     "output_type": "execute_result"
    }
   ],
   "source": [
    "bot_understand('Các bước đăng ký lại kết hôn với người nước ngoài')\n"
   ]
  },
  {
   "cell_type": "code",
   "execution_count": null,
   "metadata": {},
   "outputs": [],
   "source": [
    "# tiếp theo thử nghiệm search\n",
    "# 1. cộng động từ\n",
    "# 2. duplicate(df[v1] + df[v2])\n",
    "# lấy top 5"
   ]
  }
 ],
 "metadata": {
  "kernelspec": {
   "display_name": "Python 3.7.9 64-bit",
   "language": "python",
   "name": "python3"
  },
  "language_info": {
   "codemirror_mode": {
    "name": "ipython",
    "version": 3
   },
   "file_extension": ".py",
   "mimetype": "text/x-python",
   "name": "python",
   "nbconvert_exporter": "python",
   "pygments_lexer": "ipython3",
   "version": "3.7.9"
  },
  "orig_nbformat": 4,
  "vscode": {
   "interpreter": {
    "hash": "418e148e6ca117418dd5038ed82f296b9a828afe02c26d769599b0b888636945"
   }
  }
 },
 "nbformat": 4,
 "nbformat_minor": 2
}
